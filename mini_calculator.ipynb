{
 "cells": [
  {
   "cell_type": "code",
   "execution_count": 1,
   "id": "3ae66240",
   "metadata": {},
   "outputs": [
    {
     "name": "stdout",
     "output_type": "stream",
     "text": [
      "enter no.1:4\n",
      "enter the operation you want to perform (+,-,*,/):*\n",
      "enter no.22\n",
      "4*4=8\n"
     ]
    }
   ],
   "source": [
    "def add(a,b):\n",
    "    s=a+b\n",
    "    return s\n",
    "def sub(a,b):\n",
    "    s2=a-b\n",
    "    return s2\n",
    "def mul(a,b):\n",
    "    m=a*b\n",
    "    return m\n",
    "def div(a,b):\n",
    "    d=a/b\n",
    "    return d\n",
    "n1=int(input(\"enter no.1:\"))\n",
    "o=input(\"enter the operation you want to perform (+,-,*,/):\")\n",
    "n2=int(input(\"enter no.2\"))\n",
    "if o==\"+\":\n",
    "    print(\"{}+{}={}\".format(n1,n1,add(n1,n2)))\n",
    "elif o==\"-\":\n",
    "    print(\"{}-{}={}\".format(n1,n1,sub(n1,n2)))\n",
    "elif o==\"*\":\n",
    "    print(\"{}*{}={}\".format(n1,n1,mul(n1,n2)))\n",
    "else:\n",
    "    print(\"{}/{}={}\".format(n1,n1,div(n1,n2)))"
   ]
  },
  {
   "cell_type": "code",
   "execution_count": null,
   "id": "fa2d78b1",
   "metadata": {},
   "outputs": [],
   "source": []
  }
 ],
 "metadata": {
  "kernelspec": {
   "display_name": "Python 3 (ipykernel)",
   "language": "python",
   "name": "python3"
  },
  "language_info": {
   "codemirror_mode": {
    "name": "ipython",
    "version": 3
   },
   "file_extension": ".py",
   "mimetype": "text/x-python",
   "name": "python",
   "nbconvert_exporter": "python",
   "pygments_lexer": "ipython3",
   "version": "3.10.9"
  }
 },
 "nbformat": 4,
 "nbformat_minor": 5
}
